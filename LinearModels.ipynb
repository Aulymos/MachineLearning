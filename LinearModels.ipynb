{
 "cells": [
  {
   "cell_type": "markdown",
   "id": "3c4f4fe2",
   "metadata": {},
   "source": [
    "# Section 1 Linear Regression"
   ]
  },
  {
   "cell_type": "markdown",
   "id": "8215e0e5",
   "metadata": {},
   "source": [
    "## 1.1 the Normal Equation"
   ]
  },
  {
   "cell_type": "code",
   "execution_count": 1,
   "id": "28b6c3ec",
   "metadata": {},
   "outputs": [
    {
     "name": "stdout",
     "output_type": "stream",
     "text": [
      "[[3.69164567]\n",
      " [3.35047868]]\n"
     ]
    }
   ],
   "source": [
    "# test the Normal Equation by Numpy\n",
    "\n",
    "## import the lib\n",
    "import numpy as np\n",
    "\n",
    "## create a training instance array \n",
    "X = 2 * np.random.rand(100, 1)\n",
    "\n",
    "## create a traininig target value array\n",
    "y = 4 + 3 * X  + np.random.randn(100, 1)\n",
    "\n",
    "## add a column of 1s to X\n",
    "X_b = np.c_[np.ones((100, 1)), X]\n",
    "\n",
    "## calculate the optimal theta\n",
    "theta_best = np.linalg.inv(X_b.T.dot(X_b)).dot(X_b.T).dot(y)\n",
    "\n",
    "## print the result\n",
    "print(theta_best)"
   ]
  },
  {
   "cell_type": "code",
   "execution_count": 2,
   "id": "a05dba51",
   "metadata": {},
   "outputs": [
    {
     "data": {
      "text/plain": [
       "(100, 2)"
      ]
     },
     "execution_count": 2,
     "metadata": {},
     "output_type": "execute_result"
    }
   ],
   "source": [
    "X_b.shape"
   ]
  },
  {
   "cell_type": "code",
   "execution_count": 3,
   "id": "02cb3457",
   "metadata": {},
   "outputs": [],
   "source": [
    "# create 2 new instances\n",
    "\n",
    "X_new = np.array([[0], [2]])"
   ]
  },
  {
   "cell_type": "code",
   "execution_count": 4,
   "id": "683ab777",
   "metadata": {},
   "outputs": [
    {
     "data": {
      "text/plain": [
       "(2, 1)"
      ]
     },
     "execution_count": 4,
     "metadata": {},
     "output_type": "execute_result"
    }
   ],
   "source": [
    "X_new.shape"
   ]
  },
  {
   "cell_type": "code",
   "execution_count": 5,
   "id": "a827efac",
   "metadata": {},
   "outputs": [
    {
     "name": "stdout",
     "output_type": "stream",
     "text": [
      "[[ 3.69164567]\n",
      " [10.39260303]]\n"
     ]
    }
   ],
   "source": [
    "# add the column of 1s to the X_new instances\n",
    "X_new_b = np.c_[np.ones((2, 1)), X_new]\n",
    "\n",
    "# predict the corresponding target values based on the trained theta\n",
    "y_pred = X_new_b.dot(theta_best)\n",
    "\n",
    "#print the results\n",
    "print(y_pred)"
   ]
  },
  {
   "cell_type": "code",
   "execution_count": 6,
   "id": "92191a4f",
   "metadata": {},
   "outputs": [
    {
     "data": {
      "image/png": "[encoded data removed]",
      "text/plain": [
       "<Figure size 432x288 with 1 Axes>"
      ]
     },
     "metadata": {
      "needs_background": "light"
     },
     "output_type": "display_data"
    }
   ],
   "source": [
    "# plot the training results\n",
    "\n",
    "## import the lib\n",
    "from matplotlib import pyplot as plt\n",
    "\n",
    "## plot the axis range\n",
    "plt.axis([0, 2, 0, 15])\n",
    "\n",
    "## plot x-axis label and y-axis label\n",
    "plt.xlabel(\"x1\", fontsize=18)\n",
    "plt.ylabel(\"y\", rotation=0, fontsize=18)\n",
    "\n",
    "## plot the fitted line\n",
    "plt.plot(X_new, y_pred, \"r-\", linewidth=2, label=\"Predictions\")\n",
    "\n",
    "## plot the training data \n",
    "plt.plot(X, y, \"b.\")\n",
    "\n",
    "## create the legend\n",
    "plt.legend(loc=\"upper left\", fontsize=14)\n",
    "\n",
    "## show the image\n",
    "plt.show()"
   ]
  },
  {
   "cell_type": "markdown",
   "id": "c3467301",
   "metadata": {},
   "source": [
    "## 1.2 Linear Regression with Sklearn"
   ]
  },
  {
   "cell_type": "markdown",
   "id": "cca4bbaa",
   "metadata": {},
   "source": [
    "### 1.2.1 Model creation and training"
   ]
  },
  {
   "cell_type": "code",
   "execution_count": 7,
   "id": "9faa47a0",
   "metadata": {},
   "outputs": [
    {
     "name": "stdout",
     "output_type": "stream",
     "text": [
      "The bias is: [3.69164567]\n",
      "The coefficient is: [[3.35047868]]\n"
     ]
    }
   ],
   "source": [
    "# create and train a Linear Regression model \n",
    "\n",
    "## import the lib\n",
    "from sklearn.linear_model import LinearRegression\n",
    "\n",
    "## create a class object\n",
    "lin_reg = LinearRegression()\n",
    "\n",
    "## fit the model with training instances and training target values\n",
    "lin_reg.fit(X, y)\n",
    "\n",
    "## output the intercept (bias) and the cofficients\n",
    "print(\"The bias is: {}\".format(lin_reg.intercept_))\n",
    "print(\"The coefficient is: {}\".format(lin_reg.coef_))"
   ]
  },
  {
   "cell_type": "code",
   "execution_count": 8,
   "id": "f313bf0e",
   "metadata": {},
   "outputs": [
    {
     "data": {
      "text/plain": [
       "numpy.ndarray"
      ]
     },
     "execution_count": 8,
     "metadata": {},
     "output_type": "execute_result"
    }
   ],
   "source": [
    "type(lin_reg.intercept_)\n",
    "type(lin_reg.coef_)"
   ]
  },
  {
   "cell_type": "code",
   "execution_count": 9,
   "id": "a4b18000",
   "metadata": {},
   "outputs": [
    {
     "data": {
      "text/plain": [
       "(1,)"
      ]
     },
     "execution_count": 9,
     "metadata": {},
     "output_type": "execute_result"
    }
   ],
   "source": [
    "lin_reg.intercept_.shape"
   ]
  },
  {
   "cell_type": "code",
   "execution_count": 10,
   "id": "9750faa9",
   "metadata": {},
   "outputs": [
    {
     "data": {
      "text/plain": [
       "(1, 1)"
      ]
     },
     "execution_count": 10,
     "metadata": {},
     "output_type": "execute_result"
    }
   ],
   "source": [
    "lin_reg.coef_.shape"
   ]
  },
  {
   "cell_type": "markdown",
   "id": "d7f3a406",
   "metadata": {},
   "source": [
    "### 1.2.2 Methods for obtaining the Best Theta"
   ]
  },
  {
   "cell_type": "markdown",
   "id": "2183bd81",
   "metadata": {},
   "source": [
    "#### 1.2.2.1 lin_reg, the sklearn model method"
   ]
  },
  {
   "cell_type": "markdown",
   "id": "74b51eeb",
   "metadata": {},
   "source": [
    "#### 1.2.2.2 numpy least square method"
   ]
  },
  {
   "cell_type": "code",
   "execution_count": 11,
   "id": "7344f9f2",
   "metadata": {},
   "outputs": [
    {
     "name": "stdout",
     "output_type": "stream",
     "text": [
      "[[3.69164567]\n",
      " [3.35047868]]\n"
     ]
    }
   ],
   "source": [
    "# import the lib\n",
    "import numpy as np\n",
    "\n",
    "# take the first element of the method returned tuple \n",
    "theta_best_svd = np.linalg.lstsq(X_b, y, rcond=1e-6)[0]\n",
    "\n",
    "#print the result\n",
    "print(theta_best_svd)"
   ]
  },
  {
   "cell_type": "markdown",
   "id": "9d369861",
   "metadata": {},
   "source": [
    "#### 1.2.2.3 by definition"
   ]
  },
  {
   "cell_type": "markdown",
   "id": "684d938c",
   "metadata": {},
   "source": [
    "#### 1.2.2.4 pseudo-inverse of X "
   ]
  },
  {
   "cell_type": "code",
   "execution_count": 12,
   "id": "8970b91f",
   "metadata": {},
   "outputs": [
    {
     "name": "stdout",
     "output_type": "stream",
     "text": [
      "[[3.69164567]\n",
      " [3.35047868]]\n"
     ]
    }
   ],
   "source": [
    "# import the lib\n",
    "import numpy as np\n",
    "\n",
    "theta_best_pdinv = np.linalg.pinv(X_b).dot(y)\n",
    "\n",
    "print(theta_best_pdinv)"
   ]
  },
  {
   "cell_type": "markdown",
   "id": "16c6d70b",
   "metadata": {},
   "source": [
    "# Section 2 Gradient Descent"
   ]
  },
  {
   "cell_type": "markdown",
   "id": "434cc6fc",
   "metadata": {},
   "source": [
    "## 2.1 Batch Gradient Descent"
   ]
  },
  {
   "cell_type": "code",
   "execution_count": 13,
   "id": "0598d63a",
   "metadata": {},
   "outputs": [
    {
     "name": "stdout",
     "output_type": "stream",
     "text": [
      "the initialised theta is: [[0.42310658]\n",
      " [0.04871294]]\n",
      "the updated theta with learn rate of 0.1 after 100 iterations is: [[3.68423415]\n",
      " [3.35700314]]\n"
     ]
    }
   ],
   "source": [
    "# the implementation of Batch Gradient Descent algorithm\n",
    "\n",
    "## import the lib\n",
    "import numpy as np\n",
    "\n",
    "## define all the constants\n",
    "eta = 0.1\n",
    "n_iterations = 100\n",
    "m = 100\n",
    "\n",
    "## random initialisation of theta\n",
    "theta = np.random.randn(2, 1)\n",
    "\n",
    "print(\"the initialised theta is: {}\".format(theta))\n",
    "\n",
    "## iterations of update\n",
    "for iteration in range(n_iterations):\n",
    "    gradients = 2/m * X_b.T.dot(X_b.dot(theta) - y)\n",
    "    theta = theta - eta * gradients\n",
    "\n",
    "## print the result\n",
    "print(\"the updated theta with learn rate of 0.1 after 100 iterations is: {}\".format(theta))"
   ]
  },
  {
   "cell_type": "markdown",
   "id": "0fe256eb",
   "metadata": {},
   "source": [
    "## 2.2 Stochastic Gradient Descent"
   ]
  },
  {
   "cell_type": "markdown",
   "id": "a193de28",
   "metadata": {},
   "source": [
    "### 2.2.1 SGD implementation"
   ]
  },
  {
   "cell_type": "code",
   "execution_count": 15,
   "id": "d2e5d3ea",
   "metadata": {},
   "outputs": [
    {
     "name": "stdout",
     "output_type": "stream",
     "text": [
      "The initialised theta is: [[-0.65441767]\n",
      " [ 0.87762931]]\n",
      "The optimised theta is: [[3.6259285 ]\n",
      " [3.37158121]]\n"
     ]
    }
   ],
   "source": [
    "# the implementation of Stochastic Gradient Descent\n",
    "\n",
    "## import the lib\n",
    "import numpy as np\n",
    "\n",
    "## define the variables \n",
    "n_epochs = 50\n",
    "t0, t1 = 5, 50\n",
    "m = 100\n",
    "\n",
    "## define the learning schedule function\n",
    "def learning_schedule(t):\n",
    "    \n",
    "    return t0 / (t + t1)\n",
    "\n",
    "## random initialisation of the parameters theta\n",
    "theta = np.random.randn(2, 1)\n",
    "\n",
    "print(\"The initialised theta is: {}\".format(theta))\n",
    "\n",
    "## updating loop\n",
    "for epoch in range(n_epochs):\n",
    "    \n",
    "    for i in range(m):\n",
    "        \n",
    "        # randomly select one instance \n",
    "        random_index = np.random.randint(m)\n",
    "        xi = X_b[random_index : random_index + 1]\n",
    "        yi = y[random_index: random_index + 1]\n",
    "        \n",
    "        # obtain the gradient \n",
    "        gradients = 2 * xi.T.dot(xi.dot(theta) - yi)\n",
    "        \n",
    "        # obtain the learning rate, eta, by running the learning schedule function\n",
    "        eta = learning_schedule(epoch * m + i)\n",
    "        \n",
    "        # update the theta\n",
    "        theta = theta - eta * gradients\n",
    "\n",
    "print(\"The optimised theta is: {}\".format(theta))\n",
    "        "
   ]
  },
  {
   "cell_type": "markdown",
   "id": "65e77388",
   "metadata": {},
   "source": [
    "### 2.2.2 SGD by Scikit-Learning"
   ]
  },
  {
   "cell_type": "code",
   "execution_count": 16,
   "id": "32678305",
   "metadata": {},
   "outputs": [
    {
     "name": "stdout",
     "output_type": "stream",
     "text": [
      "The bias is: [3.64356317]\n",
      "The coefficients include: [3.31849478]\n"
     ]
    }
   ],
   "source": [
    "# import the lib\n",
    "from sklearn.linear_model import SGDRegressor\n",
    "\n",
    "# create the class object\n",
    "sgd_reg = SGDRegressor(max_iter=1000, tol=1e-3, penalty=None, eta0=0.1)\n",
    "\n",
    "# fit \n",
    "sgd_reg.fit(X, y.ravel())\n",
    "\n",
    "print(\"The bias is: {}\".format(sgd_reg.intercept_))\n",
    "print(\"The coefficients include: {}\".format(sgd_reg.coef_))"
   ]
  },
  {
   "cell_type": "markdown",
   "id": "905a60fb",
   "metadata": {},
   "source": [
    "## 2.3 Mini-Batch Gradient Descent"
   ]
  },
  {
   "cell_type": "markdown",
   "id": "d535919c",
   "metadata": {},
   "source": [
    "# Section 3 Polynomial Regression"
   ]
  },
  {
   "cell_type": "markdown",
   "id": "958864cf",
   "metadata": {},
   "source": [
    "## 3.1 nonlinear data creation"
   ]
  },
  {
   "cell_type": "code",
   "execution_count": 1,
   "id": "dc8f6537",
   "metadata": {},
   "outputs": [],
   "source": [
    "# generate nonlinear data\n",
    "\n",
    "## import the lib\n",
    "import numpy as np\n",
    "\n",
    "## define the number of data instances\n",
    "m = 100\n",
    "\n",
    "## obtain the training instaces and the training target values\n",
    "X = 6 * np.random.rand(m, 1) - 3\n",
    "y = 0.5 * X**2 + X + 2 + np.random.randn(m, 1)"
   ]
  },
  {
   "cell_type": "code",
   "execution_count": 2,
   "id": "66b421a8",
   "metadata": {},
   "outputs": [
    {
     "data": {
      "text/plain": [
       "<AxesSubplot:xlabel='0', ylabel='1'>"
      ]
     },
     "execution_count": 2,
     "metadata": {},
     "output_type": "execute_result"
    },
    {
     "data": {
      "image/png": "[encoded data removed]",
      "text/plain": [
       "<Figure size 432x288 with 1 Axes>"
      ]
     },
     "metadata": {
      "needs_background": "light"
     },
     "output_type": "display_data"
    }
   ],
   "source": [
    "# display the data in image\n",
    "import pandas as pd\n",
    "\n",
    "data_array = np.c_[X, y]\n",
    "data = pd.DataFrame(data_array)\n",
    "data.plot(kind=\"scatter\", x=0, y=1)"
   ]
  },
  {
   "cell_type": "markdown",
   "id": "ec5dc6be",
   "metadata": {},
   "source": [
    "## 3.2 pre-process the data "
   ]
  },
  {
   "cell_type": "code",
   "execution_count": 3,
   "id": "9c4bd36d",
   "metadata": {},
   "outputs": [],
   "source": [
    "# import the lib\n",
    "\n",
    "from sklearn.preprocessing import PolynomialFeatures"
   ]
  },
  {
   "cell_type": "code",
   "execution_count": 4,
   "id": "3999798b",
   "metadata": {},
   "outputs": [],
   "source": [
    "# create the class object of pre-processor\n",
    "\n",
    "poly_features = PolynomialFeatures(degree=2, include_bias=False)"
   ]
  },
  {
   "cell_type": "code",
   "execution_count": 5,
   "id": "0a7be4c2",
   "metadata": {},
   "outputs": [],
   "source": [
    "# fit and transform\n",
    "\n",
    "X_poly = poly_features.fit_transform(X)"
   ]
  },
  {
   "cell_type": "code",
   "execution_count": 6,
   "id": "98a6e6d5",
   "metadata": {},
   "outputs": [
    {
     "name": "stdout",
     "output_type": "stream",
     "text": [
      "[0.3721123  0.13846757]\n"
     ]
    }
   ],
   "source": [
    "# print one of the processed training instance\n",
    "\n",
    "print(X_poly[0])"
   ]
  },
  {
   "cell_type": "markdown",
   "id": "d69fb492",
   "metadata": {},
   "source": [
    "## 3.3 Linear Regression model with the pre-processed data"
   ]
  },
  {
   "cell_type": "code",
   "execution_count": 7,
   "id": "a1173a38",
   "metadata": {},
   "outputs": [
    {
     "name": "stdout",
     "output_type": "stream",
     "text": [
      "The bias intercept is: [2.10280996]\n",
      "The weight coefficient array includes: [[1.09884606 0.5319493 ]]\n"
     ]
    }
   ],
   "source": [
    "# import the lib\n",
    "from sklearn.linear_model import LinearRegression\n",
    "\n",
    "# create the class object of the regressor\n",
    "lin_reg = LinearRegression()\n",
    "\n",
    "# fit\n",
    "lin_reg.fit(X_poly, y)\n",
    "\n",
    "# print the bias intercept and the weight coefficients\n",
    "print(\"The bias intercept is: {}\".format(lin_reg.intercept_))\n",
    "print(\"The weight coefficient array includes: {}\".format(lin_reg.coef_))"
   ]
  },
  {
   "cell_type": "markdown",
   "id": "9195bd67",
   "metadata": {},
   "source": [
    "# Section 4 Learning Curve"
   ]
  },
  {
   "cell_type": "markdown",
   "id": "72d9aeb1",
   "metadata": {},
   "source": [
    "## 4.1 plain Linear Regression model"
   ]
  },
  {
   "cell_type": "code",
   "execution_count": 8,
   "id": "597927a8",
   "metadata": {},
   "outputs": [],
   "source": [
    "# import the libs\n",
    "\n",
    "from sklearn.metrics import mean_squared_error\n",
    "from sklearn.model_selection import train_test_split\n",
    "from matplotlib import pyplot as plt\n",
    "import numpy as np"
   ]
  },
  {
   "cell_type": "code",
   "execution_count": 9,
   "id": "e630ab97",
   "metadata": {},
   "outputs": [],
   "source": [
    "# define the learning curve plotting function\n",
    "\n",
    "def plot_learning_curve(model, X, y):\n",
    "    \n",
    "    # split the training data and training target values for validation set\n",
    "    X_train, X_val, y_train, y_val = train_test_split(X, y, test_size=0.2)\n",
    "    \n",
    "    # create list structures for stroing training errors (MSE) and the validation errors (MSE)\n",
    "    train_errors, val_errors = [], []\n",
    "    \n",
    "    # loop for all the training-size folds for storing the RMSEs\n",
    "    for m in range(1, len(X_train)):\n",
    "        \n",
    "        # obtain the training error and validation error of a single fold\n",
    "        \n",
    "        ## fit the model \n",
    "        model.fit(X_train[:m], y_train[:m])\n",
    "        \n",
    "        ## obtain the training error\n",
    "        y_train_predict = model.predict(X_train[:m])\n",
    "        train_errors.append(mean_squared_error(y_train[:m], y_train_predict))\n",
    "        \n",
    "        ## obtain the validation error\n",
    "        y_val_predict = model.predict(X_val)\n",
    "        val_errors.append(mean_squared_error(y_val, y_val_predict))\n",
    "    \n",
    "    plt.plot(np.sqrt(train_errors), \"r-+\", linewidth=2, label=\"train\")\n",
    "    plt.plot(np.sqrt(val_errors), \"b-\", linewidth=3, label=\"validation\")\n",
    "    plt.legend(loc=\"upper right\", fontsize=16)\n",
    "    plt.xlabel(\"Training set size\", fontsize=16)\n",
    "    plt.ylabel(\"RMSE\", fontsize=16)\n",
    "    \n",
    "        "
   ]
  },
  {
   "cell_type": "code",
   "execution_count": 10,
   "id": "646f6ca4",
   "metadata": {},
   "outputs": [
    {
     "data": {
      "image/png": "[encoded data removed]",
      "text/plain": [
       "<Figure size 432x288 with 1 Axes>"
      ]
     },
     "metadata": {
      "needs_background": "light"
     },
     "output_type": "display_data"
    }
   ],
   "source": [
    "# plot the Learning Curve for the Linear Regression model\n",
    "\n",
    "## import the libs \n",
    "from sklearn.linear_model import LinearRegression\n",
    "\n",
    "## create the model class object\n",
    "lin_reg = LinearRegression()\n",
    "\n",
    "## run the defined function to show the Learning Curve\n",
    "plot_learning_curve(lin_reg, X, y)"
   ]
  },
  {
   "cell_type": "markdown",
   "id": "a8c42662",
   "metadata": {},
   "source": [
    "## 4.2 10th-Degree Polynomial Regression model"
   ]
  },
  {
   "cell_type": "code",
   "execution_count": 11,
   "id": "bc01a9c7",
   "metadata": {},
   "outputs": [
    {
     "data": {
      "image/png": "[encoded data removed]",
      "text/plain": [
       "<Figure size 432x288 with 1 Axes>"
      ]
     },
     "metadata": {
      "needs_background": "light"
     },
     "output_type": "display_data"
    }
   ],
   "source": [
    "# import the libs\n",
    "from sklearn.pipeline import Pipeline\n",
    "\n",
    "# pre-process the model\n",
    "polynomial_regression = Pipeline([\n",
    "    (\"Poly_features\", PolynomialFeatures(degree=10, include_bias=False)),\n",
    "    (\"lin_reg\", LinearRegression()),\n",
    "]) \n",
    "\n",
    "# run the defined Learning Curve function\n",
    "plot_learning_curve(polynomial_regression, X, y)"
   ]
  },
  {
   "cell_type": "markdown",
   "id": "afb1503e",
   "metadata": {},
   "source": [
    "# Section 5 Regularised Linear Models"
   ]
  },
  {
   "cell_type": "markdown",
   "id": "81dcb990",
   "metadata": {},
   "source": [
    "## 5.1 Ridge Regression"
   ]
  },
  {
   "cell_type": "code",
   "execution_count": 1,
   "id": "4dba3232",
   "metadata": {},
   "outputs": [],
   "source": [
    "# create training data and training targets\n",
    "\n",
    "## import the lib\n",
    "import numpy as np\n",
    "\n",
    "## specify the random seed\n",
    "np.random.seed(42)\n",
    "\n",
    "## create training instances\n",
    "m = 20\n",
    "X = 3 * np.random.rand(m, 1)\n",
    "y = 1 + 0.5 * X + np.random.randn(m, 1) / 1.5\n",
    "X_new = np.linspace(0, 3, 100).reshape(100, 1)"
   ]
  },
  {
   "cell_type": "code",
   "execution_count": 2,
   "id": "ca1f1b50",
   "metadata": {},
   "outputs": [
    {
     "data": {
      "text/plain": [
       "array([[1.55071465]])"
      ]
     },
     "execution_count": 2,
     "metadata": {},
     "output_type": "execute_result"
    }
   ],
   "source": [
    "# import the lib\n",
    "from sklearn.linear_model import Ridge\n",
    "\n",
    "# create model class object\n",
    "ridge_reg = Ridge(alpha=1, solver=\"cholesky\")\n",
    "\n",
    "# fit \n",
    "ridge_reg.fit(X, y)\n",
    "\n",
    "# predict a new instance\n",
    "ridge_reg.predict([[1.5]])"
   ]
  },
  {
   "cell_type": "markdown",
   "id": "68282235",
   "metadata": {},
   "source": [
    "## 5.2 Lasso Regression"
   ]
  },
  {
   "cell_type": "code",
   "execution_count": 3,
   "id": "98383af3",
   "metadata": {},
   "outputs": [
    {
     "data": {
      "text/plain": [
       "array([1.53788174])"
      ]
     },
     "execution_count": 3,
     "metadata": {},
     "output_type": "execute_result"
    }
   ],
   "source": [
    "# import the lib\n",
    "from sklearn.linear_model import Lasso\n",
    "\n",
    "# create the model class object \n",
    "lasso_reg = Lasso(alpha=0.1)\n",
    "\n",
    "# fit\n",
    "lasso_reg.fit(X, y)\n",
    "\n",
    "# predict\n",
    "lasso_reg.predict([[1.5]])"
   ]
  },
  {
   "cell_type": "markdown",
   "id": "539c3e8a",
   "metadata": {},
   "source": [
    "## 5.3 Elastic Net"
   ]
  },
  {
   "cell_type": "code",
   "execution_count": 4,
   "id": "f2ad9914",
   "metadata": {},
   "outputs": [
    {
     "data": {
      "text/plain": [
       "array([1.54333232])"
      ]
     },
     "execution_count": 4,
     "metadata": {},
     "output_type": "execute_result"
    }
   ],
   "source": [
    "# import the lib\n",
    "from sklearn.linear_model import ElasticNet\n",
    "\n",
    "# create the model class object\n",
    "elastic_reg = ElasticNet(alpha=0.1, l1_ratio=0.5)\n",
    "\n",
    "# fit\n",
    "elastic_reg.fit(X, y)\n",
    "\n",
    "# predict\n",
    "elastic_reg.predict([[1.5]])"
   ]
  },
  {
   "cell_type": "markdown",
   "id": "47204ab5",
   "metadata": {},
   "source": [
    "## 5.4 Early Stopping"
   ]
  },
  {
   "cell_type": "code",
   "execution_count": 4,
   "id": "7ea729a5",
   "metadata": {},
   "outputs": [],
   "source": [
    "# import the libs\n",
    "\n",
    "import numpy as np\n",
    "from sklearn.preprocessing import PolynomialFeatures, StandardScaler\n",
    "from sklearn.pipeline import Pipeline\n",
    "from sklearn.linear_model import SGDRegressor\n",
    "from sklearn.metrics import mean_squared_error\n",
    "from sklearn.model_selection import train_test_split\n",
    "from sklearn.base import clone"
   ]
  },
  {
   "cell_type": "code",
   "execution_count": 82,
   "id": "5e05ca0f",
   "metadata": {},
   "outputs": [],
   "source": [
    "# create the training data\n",
    "\n",
    "## set the random seed\n",
    "# np.random.seed(42)\n",
    "\n",
    "## obtain training instances\n",
    "m = 100\n",
    "X = 6 * np.random.rand(m, 1) - 3\n",
    "y = 2 + X  + 0.5 * X**5 + np.random.randn(m, 1)\n",
    "\n",
    "## obtain the validation set\n",
    "X_train, X_val, y_train, y_val = train_test_split(X[:50], y[:50].ravel(), test_size=0.5, random_state=10)"
   ]
  },
  {
   "cell_type": "code",
   "execution_count": 83,
   "id": "9d5fd9a3",
   "metadata": {},
   "outputs": [],
   "source": [
    "# pre-process the features with pipeline\n",
    "\n",
    "## create the scaler object\n",
    "poly_scaler = Pipeline([\n",
    "    (\"poly_features\", PolynomialFeatures(degree=3, include_bias=False)),\n",
    "    (\"std_scaler\", StandardScaler())\n",
    "])\n",
    "\n",
    "## fit \n",
    "poly_scaler.fit(X_train)\n",
    "\n",
    "## transform \n",
    "X_train_poly_scaled = poly_scaler.transform(X_train)\n",
    "X_val_poly_scaled = poly_scaler.transform(X_val)"
   ]
  },
  {
   "cell_type": "code",
   "execution_count": 84,
   "id": "759f5020",
   "metadata": {},
   "outputs": [],
   "source": [
    "# Create the SGD regressor model \n",
    "\n",
    "sgd_reg = SGDRegressor(max_iter=1, tol=-np.infty, warm_start=True, penalty=None, learning_rate=\"constant\", eta0=0.0005,\n",
    "                      random_state=42)"
   ]
  },
  {
   "cell_type": "code",
   "execution_count": 85,
   "id": "ac818d8c",
   "metadata": {},
   "outputs": [],
   "source": [
    "# initialise the variables\n",
    "\n",
    "minimum_val_error = float(\"inf\")\n",
    "best_epoch = None\n",
    "best_model = None"
   ]
  },
  {
   "cell_type": "code",
   "execution_count": 86,
   "id": "77229e61",
   "metadata": {},
   "outputs": [],
   "source": [
    "# loop all the epochs for the best model and best epoch\n",
    "\n",
    "for epoch in range(10000):\n",
    "    \n",
    "    ## fit the SGD regressor\n",
    "    sgd_reg.fit(X_train_poly_scaled, y_train)\n",
    "    \n",
    "    ## obtain the validation value\n",
    "    y_val_predict = sgd_reg.predict(X_val_poly_scaled)\n",
    "    \n",
    "    ## obtain the validation error\n",
    "    val_error = mean_squared_error(y_val, y_val_predict)\n",
    "    \n",
    "    ## conditions \n",
    "    if val_error < minimum_val_error:\n",
    "        \n",
    "        ## assign the obtained validation error to the minimum validation error\n",
    "        minimum_val_error = val_error\n",
    "        \n",
    "        ## assign the epoch to the best epoch\n",
    "        best_epoch = epoch\n",
    "        \n",
    "        ## assign the model to the best model\n",
    "        best_model = clone(sgd_reg)"
   ]
  },
  {
   "cell_type": "code",
   "execution_count": 87,
   "id": "b2dbec5e",
   "metadata": {},
   "outputs": [
    {
     "name": "stdout",
     "output_type": "stream",
     "text": [
      "2005 SGDRegressor(eta0=0.0005, learning_rate='constant', max_iter=1, penalty=None,\n",
      "             random_state=42, tol=-inf, warm_start=True)\n"
     ]
    }
   ],
   "source": [
    "print(best_epoch, best_model)"
   ]
  },
  {
   "cell_type": "code",
   "execution_count": 88,
   "id": "7b97d97c",
   "metadata": {
    "collapsed": true
   },
   "outputs": [
    {
     "data": {
      "image/png": "[encoded data removed]",
      "text/plain": [
       "<Figure size 432x288 with 1 Axes>"
      ]
     },
     "metadata": {
      "needs_background": "light"
     },
     "output_type": "display_data"
    }
   ],
   "source": [
    "# plot the result\n",
    "\n",
    "from matplotlib import pyplot as plt\n",
    "\n",
    "n_epochs = 10000\n",
    "train_errors, val_errors = [], []\n",
    "for epoch in range(n_epochs):\n",
    "    sgd_reg.fit(X_train_poly_scaled, y_train)\n",
    "    y_train_predict = sgd_reg.predict(X_train_poly_scaled)\n",
    "    y_val_predict = sgd_reg.predict(X_val_poly_scaled)\n",
    "    train_errors.append(mean_squared_error(y_train, y_train_predict))\n",
    "    val_errors.append(mean_squared_error(y_val, y_val_predict))\n",
    "\n",
    "best_epoch = np.argmin(val_errors)\n",
    "best_val_rmse = np.sqrt(val_errors[best_epoch])\n",
    "\n",
    "plt.annotate('Best model',\n",
    "             xy=(best_epoch, best_val_rmse),\n",
    "             xytext=(best_epoch, best_val_rmse + 1),\n",
    "             ha=\"center\",\n",
    "             arrowprops=dict(facecolor='black', shrink=0.05),\n",
    "             fontsize=16,\n",
    "            )\n",
    "\n",
    "best_val_rmse -= 0.03  # just to make the graph look better\n",
    "plt.plot([0, n_epochs], [best_val_rmse, best_val_rmse], \"k:\", linewidth=2)\n",
    "plt.plot(np.sqrt(val_errors), \"b-\", linewidth=3, label=\"Validation set\")\n",
    "plt.plot(np.sqrt(train_errors), \"r--\", linewidth=2, label=\"Training set\")\n",
    "plt.legend(loc=\"upper right\", fontsize=14)\n",
    "plt.xlabel(\"Epoch\", fontsize=14)\n",
    "plt.ylabel(\"RMSE\", fontsize=14)\n",
    "\n",
    "plt.show()"
   ]
  },
  {
   "cell_type": "markdown",
   "id": "aecb63ae",
   "metadata": {},
   "source": [
    "# Section 6 Logistic Regression"
   ]
  },
  {
   "cell_type": "markdown",
   "id": "0323e63f",
   "metadata": {},
   "source": [
    "## Iris Dataset"
   ]
  },
  {
   "cell_type": "markdown",
   "id": "bd82a8e5",
   "metadata": {},
   "source": [
    "### Load the data"
   ]
  },
  {
   "cell_type": "code",
   "execution_count": 1,
   "id": "13c4c142",
   "metadata": {},
   "outputs": [],
   "source": [
    "# import the lib\n",
    "from sklearn import datasets\n",
    "\n",
    "# create the data structure \n",
    "iris = datasets.load_iris()"
   ]
  },
  {
   "cell_type": "code",
   "execution_count": 2,
   "id": "b465ff8f",
   "metadata": {},
   "outputs": [
    {
     "name": "stdout",
     "output_type": "stream",
     "text": [
      "<class 'sklearn.utils.Bunch'>\n"
     ]
    }
   ],
   "source": [
    "print(type(iris))"
   ]
  },
  {
   "cell_type": "markdown",
   "id": "21f68a52",
   "metadata": {},
   "source": [
    "### have a look at the dataset"
   ]
  },
  {
   "cell_type": "code",
   "execution_count": 7,
   "id": "cdcd58c2",
   "metadata": {},
   "outputs": [
    {
     "name": "stdout",
     "output_type": "stream",
     "text": [
      "dict_keys(['data', 'target', 'frame', 'target_names', 'DESCR', 'feature_names', 'filename'])\n"
     ]
    }
   ],
   "source": [
    "# have a look at the dataset\n",
    "\n",
    "## import the lib\n",
    "import numpy as np\n",
    "\n",
    "print(iris.keys())"
   ]
  },
  {
   "cell_type": "code",
   "execution_count": 8,
   "id": "b31ae607",
   "metadata": {
    "collapsed": true
   },
   "outputs": [
    {
     "name": "stdout",
     "output_type": "stream",
     "text": [
      "[[5.1 3.5 1.4 0.2]\n",
      " [4.9 3.  1.4 0.2]\n",
      " [4.7 3.2 1.3 0.2]\n",
      " [4.6 3.1 1.5 0.2]\n",
      " [5.  3.6 1.4 0.2]\n",
      " [5.4 3.9 1.7 0.4]\n",
      " [4.6 3.4 1.4 0.3]\n",
      " [5.  3.4 1.5 0.2]\n",
      " [4.4 2.9 1.4 0.2]\n",
      " [4.9 3.1 1.5 0.1]\n",
      " [5.4 3.7 1.5 0.2]\n",
      " [4.8 3.4 1.6 0.2]\n",
      " [4.8 3.  1.4 0.1]\n",
      " [4.3 3.  1.1 0.1]\n",
      " [5.8 4.  1.2 0.2]\n",
      " [5.7 4.4 1.5 0.4]\n",
      " [5.4 3.9 1.3 0.4]\n",
      " [5.1 3.5 1.4 0.3]\n",
      " [5.7 3.8 1.7 0.3]\n",
      " [5.1 3.8 1.5 0.3]\n",
      " [5.4 3.4 1.7 0.2]\n",
      " [5.1 3.7 1.5 0.4]\n",
      " [4.6 3.6 1.  0.2]\n",
      " [5.1 3.3 1.7 0.5]\n",
      " [4.8 3.4 1.9 0.2]\n",
      " [5.  3.  1.6 0.2]\n",
      " [5.  3.4 1.6 0.4]\n",
      " [5.2 3.5 1.5 0.2]\n",
      " [5.2 3.4 1.4 0.2]\n",
      " [4.7 3.2 1.6 0.2]\n",
      " [4.8 3.1 1.6 0.2]\n",
      " [5.4 3.4 1.5 0.4]\n",
      " [5.2 4.1 1.5 0.1]\n",
      " [5.5 4.2 1.4 0.2]\n",
      " [4.9 3.1 1.5 0.2]\n",
      " [5.  3.2 1.2 0.2]\n",
      " [5.5 3.5 1.3 0.2]\n",
      " [4.9 3.6 1.4 0.1]\n",
      " [4.4 3.  1.3 0.2]\n",
      " [5.1 3.4 1.5 0.2]\n",
      " [5.  3.5 1.3 0.3]\n",
      " [4.5 2.3 1.3 0.3]\n",
      " [4.4 3.2 1.3 0.2]\n",
      " [5.  3.5 1.6 0.6]\n",
      " [5.1 3.8 1.9 0.4]\n",
      " [4.8 3.  1.4 0.3]\n",
      " [5.1 3.8 1.6 0.2]\n",
      " [4.6 3.2 1.4 0.2]\n",
      " [5.3 3.7 1.5 0.2]\n",
      " [5.  3.3 1.4 0.2]\n",
      " [7.  3.2 4.7 1.4]\n",
      " [6.4 3.2 4.5 1.5]\n",
      " [6.9 3.1 4.9 1.5]\n",
      " [5.5 2.3 4.  1.3]\n",
      " [6.5 2.8 4.6 1.5]\n",
      " [5.7 2.8 4.5 1.3]\n",
      " [6.3 3.3 4.7 1.6]\n",
      " [4.9 2.4 3.3 1. ]\n",
      " [6.6 2.9 4.6 1.3]\n",
      " [5.2 2.7 3.9 1.4]\n",
      " [5.  2.  3.5 1. ]\n",
      " [5.9 3.  4.2 1.5]\n",
      " [6.  2.2 4.  1. ]\n",
      " [6.1 2.9 4.7 1.4]\n",
      " [5.6 2.9 3.6 1.3]\n",
      " [6.7 3.1 4.4 1.4]\n",
      " [5.6 3.  4.5 1.5]\n",
      " [5.8 2.7 4.1 1. ]\n",
      " [6.2 2.2 4.5 1.5]\n",
      " [5.6 2.5 3.9 1.1]\n",
      " [5.9 3.2 4.8 1.8]\n",
      " [6.1 2.8 4.  1.3]\n",
      " [6.3 2.5 4.9 1.5]\n",
      " [6.1 2.8 4.7 1.2]\n",
      " [6.4 2.9 4.3 1.3]\n",
      " [6.6 3.  4.4 1.4]\n",
      " [6.8 2.8 4.8 1.4]\n",
      " [6.7 3.  5.  1.7]\n",
      " [6.  2.9 4.5 1.5]\n",
      " [5.7 2.6 3.5 1. ]\n",
      " [5.5 2.4 3.8 1.1]\n",
      " [5.5 2.4 3.7 1. ]\n",
      " [5.8 2.7 3.9 1.2]\n",
      " [6.  2.7 5.1 1.6]\n",
      " [5.4 3.  4.5 1.5]\n",
      " [6.  3.4 4.5 1.6]\n",
      " [6.7 3.1 4.7 1.5]\n",
      " [6.3 2.3 4.4 1.3]\n",
      " [5.6 3.  4.1 1.3]\n",
      " [5.5 2.5 4.  1.3]\n",
      " [5.5 2.6 4.4 1.2]\n",
      " [6.1 3.  4.6 1.4]\n",
      " [5.8 2.6 4.  1.2]\n",
      " [5.  2.3 3.3 1. ]\n",
      " [5.6 2.7 4.2 1.3]\n",
      " [5.7 3.  4.2 1.2]\n",
      " [5.7 2.9 4.2 1.3]\n",
      " [6.2 2.9 4.3 1.3]\n",
      " [5.1 2.5 3.  1.1]\n",
      " [5.7 2.8 4.1 1.3]\n",
      " [6.3 3.3 6.  2.5]\n",
      " [5.8 2.7 5.1 1.9]\n",
      " [7.1 3.  5.9 2.1]\n",
      " [6.3 2.9 5.6 1.8]\n",
      " [6.5 3.  5.8 2.2]\n",
      " [7.6 3.  6.6 2.1]\n",
      " [4.9 2.5 4.5 1.7]\n",
      " [7.3 2.9 6.3 1.8]\n",
      " [6.7 2.5 5.8 1.8]\n",
      " [7.2 3.6 6.1 2.5]\n",
      " [6.5 3.2 5.1 2. ]\n",
      " [6.4 2.7 5.3 1.9]\n",
      " [6.8 3.  5.5 2.1]\n",
      " [5.7 2.5 5.  2. ]\n",
      " [5.8 2.8 5.1 2.4]\n",
      " [6.4 3.2 5.3 2.3]\n",
      " [6.5 3.  5.5 1.8]\n",
      " [7.7 3.8 6.7 2.2]\n",
      " [7.7 2.6 6.9 2.3]\n",
      " [6.  2.2 5.  1.5]\n",
      " [6.9 3.2 5.7 2.3]\n",
      " [5.6 2.8 4.9 2. ]\n",
      " [7.7 2.8 6.7 2. ]\n",
      " [6.3 2.7 4.9 1.8]\n",
      " [6.7 3.3 5.7 2.1]\n",
      " [7.2 3.2 6.  1.8]\n",
      " [6.2 2.8 4.8 1.8]\n",
      " [6.1 3.  4.9 1.8]\n",
      " [6.4 2.8 5.6 2.1]\n",
      " [7.2 3.  5.8 1.6]\n",
      " [7.4 2.8 6.1 1.9]\n",
      " [7.9 3.8 6.4 2. ]\n",
      " [6.4 2.8 5.6 2.2]\n",
      " [6.3 2.8 5.1 1.5]\n",
      " [6.1 2.6 5.6 1.4]\n",
      " [7.7 3.  6.1 2.3]\n",
      " [6.3 3.4 5.6 2.4]\n",
      " [6.4 3.1 5.5 1.8]\n",
      " [6.  3.  4.8 1.8]\n",
      " [6.9 3.1 5.4 2.1]\n",
      " [6.7 3.1 5.6 2.4]\n",
      " [6.9 3.1 5.1 2.3]\n",
      " [5.8 2.7 5.1 1.9]\n",
      " [6.8 3.2 5.9 2.3]\n",
      " [6.7 3.3 5.7 2.5]\n",
      " [6.7 3.  5.2 2.3]\n",
      " [6.3 2.5 5.  1.9]\n",
      " [6.5 3.  5.2 2. ]\n",
      " [6.2 3.4 5.4 2.3]\n",
      " [5.9 3.  5.1 1.8]]\n"
     ]
    }
   ],
   "source": [
    "# check Attribute \"data\"\n",
    "\n",
    "print(iris['data'])"
   ]
  },
  {
   "cell_type": "code",
   "execution_count": 5,
   "id": "f3b9a810",
   "metadata": {},
   "outputs": [
    {
     "name": "stdout",
     "output_type": "stream",
     "text": [
      "<class 'numpy.ndarray'>\n"
     ]
    }
   ],
   "source": [
    "print(type(iris['data']))\n"
   ]
  },
  {
   "cell_type": "code",
   "execution_count": 10,
   "id": "09f85314",
   "metadata": {},
   "outputs": [],
   "source": [
    "# create training instances and binary classification labels of Iris-Virginica\n",
    "\n",
    "X = iris[\"data\"][:, 3:]\n",
    "y = (iris[\"target\"] == 2).astype(np.int64)"
   ]
  },
  {
   "cell_type": "markdown",
   "id": "d049ac48",
   "metadata": {},
   "source": [
    "### train a Logistic Regression model"
   ]
  },
  {
   "cell_type": "code",
   "execution_count": 11,
   "id": "2ab77181",
   "metadata": {},
   "outputs": [
    {
     "data": {
      "text/plain": [
       "LogisticRegression()"
      ]
     },
     "execution_count": 11,
     "metadata": {},
     "output_type": "execute_result"
    }
   ],
   "source": [
    "# import the lib\n",
    "from sklearn.linear_model import LogisticRegression\n",
    "\n",
    "# create the model object\n",
    "log_reg = LogisticRegression()\n",
    "\n",
    "# fit\n",
    "log_reg.fit(X, y)"
   ]
  },
  {
   "cell_type": "markdown",
   "id": "8671340a",
   "metadata": {},
   "source": [
    "### Predicted Probabilities "
   ]
  },
  {
   "cell_type": "code",
   "execution_count": 12,
   "id": "8a8e6ed2",
   "metadata": {},
   "outputs": [
    {
     "data": {
      "text/plain": [
       "[<matplotlib.lines.Line2D at 0x7f2af43919d0>]"
      ]
     },
     "execution_count": 12,
     "metadata": {},
     "output_type": "execute_result"
    },
    {
     "data": {
      "image/png": "[encoded data removed]",
      "text/plain": [
       "<Figure size 432x288 with 1 Axes>"
      ]
     },
     "metadata": {
      "needs_background": "light"
     },
     "output_type": "display_data"
    }
   ],
   "source": [
    "# import the lib\n",
    "from matplotlib import pyplot as plt\n",
    "\n",
    "# create new random instances\n",
    "X_new = np.linspace(0, 3, 100).reshape(-1, 1)\n",
    "\n",
    "# obtain the predicted probabilities\n",
    "y_proba = log_reg.predict_proba(X_new)\n",
    "\n",
    "# plot \n",
    "plt.plot(X_new, y_proba[:, 1], \"g-\", label=\"Iris-Virginica\")\n",
    "plt.plot(X_new, y_proba[:, 0], \"b--\", label=\"Not Iris-Virginica\")\n"
   ]
  },
  {
   "cell_type": "code",
   "execution_count": null,
   "id": "ff76fd11",
   "metadata": {},
   "outputs": [],
   "source": []
  }
 ],
 "metadata": {
  "kernelspec": {
   "display_name": "Python 3",
   "language": "python",
   "name": "python3"
  },
  "language_info": {
   "codemirror_mode": {
    "name": "ipython",
    "version": 3
   },
   "file_extension": ".py",
   "mimetype": "text/x-python",
   "name": "python",
   "nbconvert_exporter": "python",
   "pygments_lexer": "ipython3",
   "version": "3.9.5"
  }
 },
 "nbformat": 4,
 "nbformat_minor": 5
}
