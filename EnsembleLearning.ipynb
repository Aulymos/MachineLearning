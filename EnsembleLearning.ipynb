{
 "cells": [
  {
   "cell_type": "markdown",
   "id": "06799ed7",
   "metadata": {},
   "source": [
    "# Chapter 7: Ensemble Learning and Random Forests"
   ]
  },
  {
   "cell_type": "markdown",
   "id": "08376722",
   "metadata": {},
   "source": [
    "## Section 1: Voting Classifiers"
   ]
  },
  {
   "cell_type": "markdown",
   "id": "88b01e59",
   "metadata": {},
   "source": [
    "### create a voting classifier"
   ]
  },
  {
   "cell_type": "code",
   "execution_count": 1,
   "id": "10dcb3f7",
   "metadata": {},
   "outputs": [
    {
     "data": {
      "text/plain": [
       "VotingClassifier(estimators=[('lr', LogisticRegression()),\n",
       "                             ('rf', RandomForestClassifier()), ('svc', SVC())])"
      ]
     },
     "execution_count": 1,
     "metadata": {},
     "output_type": "execute_result"
    }
   ],
   "source": [
    "# import the libs for ML \n",
    "from sklearn.ensemble import RandomForestClassifier\n",
    "from sklearn.ensemble import VotingClassifier\n",
    "from sklearn.linear_model import LogisticRegression\n",
    "from sklearn.svm import SVC\n",
    "\n",
    "# import the lib for dataset loading and generating the training and test sets\n",
    "from sklearn.model_selection import train_test_split\n",
    "from sklearn.datasets import make_moons\n",
    "\n",
    "# create training instances\n",
    "X, y = make_moons(n_samples=500, noise=0.30, random_state=42)\n",
    "\n",
    "# split training and test\n",
    "X_train, X_test, y_train, y_test = train_test_split(X, y, random_state=42)\n",
    "\n",
    "# create single classifiers\n",
    "log_clf = LogisticRegression()\n",
    "rnd_clf = RandomForestClassifier()\n",
    "svm_clf = SVC()\n",
    "\n",
    "# create an ensemble classifier\n",
    "voting_clf = VotingClassifier(\n",
    "    estimators=[('lr', log_clf), ('rf', rnd_clf), ('svc', svm_clf)],\n",
    "    voting='hard'\n",
    "    )\n",
    "\n",
    "# fit\n",
    "voting_clf.fit(X_train, y_train)"
   ]
  },
  {
   "cell_type": "markdown",
   "id": "2a90971a",
   "metadata": {},
   "source": [
    "### showing the accuracies "
   ]
  },
  {
   "cell_type": "code",
   "execution_count": 2,
   "id": "96d13b88",
   "metadata": {},
   "outputs": [
    {
     "name": "stdout",
     "output_type": "stream",
     "text": [
      "LogisticRegression 0.864\n",
      "RandomForestClassifier 0.896\n",
      "SVC 0.896\n",
      "VotingClassifier 0.904\n"
     ]
    }
   ],
   "source": [
    "# import the libs\n",
    "from sklearn.metrics import accuracy_score\n",
    "\n",
    "# loop for showing all the single classifier accuracies and the voting classifier accuracy\n",
    "for clf in (log_clf, rnd_clf, svm_clf, voting_clf):\n",
    "    \n",
    "    clf.fit(X_train, y_train)\n",
    "    y_pred = clf.predict(X_test)\n",
    "    \n",
    "    print(clf.__class__.__name__, accuracy_score(y_test, y_pred))\n"
   ]
  },
  {
   "cell_type": "markdown",
   "id": "f3ee61d3",
   "metadata": {},
   "source": [
    "## Section 2: Bagging and Pasting"
   ]
  },
  {
   "cell_type": "markdown",
   "id": "3929cb1b",
   "metadata": {},
   "source": [
    "### 2.2 Bagging and Pasting in Scikit-Learn"
   ]
  },
  {
   "cell_type": "code",
   "execution_count": 3,
   "id": "5128188f",
   "metadata": {},
   "outputs": [],
   "source": [
    "# import the libs\n",
    "from sklearn.ensemble import BaggingClassifier\n",
    "from sklearn.tree import DecisionTreeClassifier\n",
    "\n",
    "# create bagging classifier\n",
    "bag_clf = BaggingClassifier(\n",
    "    DecisionTreeClassifier(),\n",
    "    n_estimators=500,\n",
    "    max_samples=100,\n",
    "    bootstrap=True,\n",
    "    n_jobs=-1\n",
    "    )\n",
    "\n",
    "# fit\n",
    "bag_clf.fit(X_train, y_train)\n",
    "\n",
    "# test\n",
    "y_pred = bag_clf.predict(X_test)\n"
   ]
  },
  {
   "cell_type": "markdown",
   "id": "afed3388",
   "metadata": {},
   "source": [
    "### 2.3 Out-Of-Bag Evaluation"
   ]
  },
  {
   "cell_type": "code",
   "execution_count": 4,
   "id": "9b93e0ad",
   "metadata": {},
   "outputs": [
    {
     "name": "stdout",
     "output_type": "stream",
     "text": [
      "0.8986666666666666\n"
     ]
    }
   ],
   "source": [
    "# import the libs \n",
    "from sklearn.ensemble import BaggingClassifier\n",
    "from sklearn.tree import DecisionTreeClassifier\n",
    "\n",
    "# create bagging classifier\n",
    "bag_clf = BaggingClassifier(\n",
    "    DecisionTreeClassifier(),\n",
    "    n_estimators=500,\n",
    "    bootstrap=True,\n",
    "    n_jobs=-1,\n",
    "    oob_score=True,\n",
    "    random_state=40\n",
    "    )\n",
    "\n",
    "# fit\n",
    "bag_clf.fit(X_train, y_train)\n",
    "\n",
    "# show the oob score\n",
    "print(bag_clf.oob_score_)"
   ]
  },
  {
   "cell_type": "markdown",
   "id": "8765fd76",
   "metadata": {},
   "source": [
    "## Section 4: Random Forests"
   ]
  },
  {
   "cell_type": "markdown",
   "id": "1854ef44",
   "metadata": {},
   "source": [
    "### 4.1 Random Forest classifier "
   ]
  },
  {
   "cell_type": "code",
   "execution_count": 6,
   "id": "999b9791",
   "metadata": {},
   "outputs": [],
   "source": [
    "# import the libs for data \n",
    "from sklearn.model_selection import train_test_split\n",
    "from sklearn.datasets import make_moons\n",
    "\n",
    "# create training set and test set\n",
    "X, y = make_moons(n_samples=500, noise=0.30, random_state=42)\n",
    "X_train, X_test, y_train, y_test = train_test_split(X, y, random_state=42)\n",
    "\n",
    "# import the libs for modeling\n",
    "from sklearn.ensemble import RandomForestClassifier\n",
    "\n",
    "# create the model\n",
    "rnd_clf = RandomForestClassifier(n_estimators=500, max_leaf_nodes=16, n_jobs=-1)\n",
    "\n",
    "# fit\n",
    "rnd_clf.fit(X_train, y_train)\n",
    "\n",
    "# test set prediction\n",
    "y_pred_rf = rnd_clf.predict(X_test)\n",
    "\n",
    "\n"
   ]
  },
  {
   "cell_type": "markdown",
   "id": "d75978da",
   "metadata": {},
   "source": [
    "### 4.2 Feature Importance"
   ]
  },
  {
   "cell_type": "code",
   "execution_count": 1,
   "id": "7ecdd4eb",
   "metadata": {},
   "outputs": [
    {
     "name": "stdout",
     "output_type": "stream",
     "text": [
      "sepal length (cm) 0.09679460130564363\n",
      "sepal width (cm) 0.023286059032058434\n",
      "petal length (cm) 0.45426820228383247\n",
      "petal width (cm) 0.4256511373784655\n"
     ]
    }
   ],
   "source": [
    "# import the libs\n",
    "from sklearn.datasets import load_iris\n",
    "from sklearn.ensemble import RandomForestClassifier\n",
    "\n",
    "# create the dataset\n",
    "iris = load_iris()\n",
    "\n",
    "# create the model\n",
    "rnd_clf = RandomForestClassifier(n_estimators=500, n_jobs=-1)\n",
    "\n",
    "# fit\n",
    "rnd_clf.fit(iris[\"data\"], iris[\"target\"])\n",
    "\n",
    "# loop for the feature importance\n",
    "for name, score in zip(iris[\"feature_names\"], rnd_clf.feature_importances_):\n",
    "    \n",
    "    print(name, score)\n"
   ]
  },
  {
   "cell_type": "markdown",
   "id": "4d98e1ce",
   "metadata": {},
   "source": [
    "## Section 5: Boosting"
   ]
  },
  {
   "cell_type": "markdown",
   "id": "7c1eb904",
   "metadata": {},
   "source": [
    "### 5.1 AdaBoost"
   ]
  },
  {
   "cell_type": "code",
   "execution_count": 1,
   "id": "0597cebf",
   "metadata": {},
   "outputs": [
    {
     "data": {
      "text/plain": [
       "AdaBoostClassifier(base_estimator=DecisionTreeClassifier(max_depth=1),\n",
       "                   learning_rate=0.5, n_estimators=200)"
      ]
     },
     "execution_count": 1,
     "metadata": {},
     "output_type": "execute_result"
    }
   ],
   "source": [
    "# import the lib for dataset loading\n",
    "from sklearn.model_selection import train_test_split\n",
    "from sklearn.datasets import make_moons\n",
    "\n",
    "# create training set and test set\n",
    "X, y = make_moons(n_samples=500, noise=0.30, random_state=42)\n",
    "X_train, X_test, y_train, y_test = train_test_split(X, y, random_state=42)\n",
    "\n",
    "# import the lib for modeling\n",
    "from sklearn.ensemble import AdaBoostClassifier\n",
    "from sklearn.tree import DecisionTreeClassifier\n",
    "\n",
    "# create the model\n",
    "ada_clf = AdaBoostClassifier(\n",
    "        DecisionTreeClassifier(max_depth=1),\n",
    "        n_estimators=200,\n",
    "        algorithm=\"SAMME.R\",\n",
    "        learning_rate=0.5)\n",
    "\n",
    "# fit\n",
    "ada_clf.fit(X_train, y_train)\n"
   ]
  },
  {
   "cell_type": "markdown",
   "id": "17e98f38",
   "metadata": {},
   "source": [
    "### 5.2 Gradient Boosting"
   ]
  },
  {
   "cell_type": "markdown",
   "id": "4d24af2a",
   "metadata": {},
   "source": [
    "#### Simple example"
   ]
  },
  {
   "cell_type": "code",
   "execution_count": 1,
   "id": "1461bf07",
   "metadata": {},
   "outputs": [
    {
     "data": {
      "text/plain": [
       "DecisionTreeRegressor(max_depth=2)"
      ]
     },
     "execution_count": 1,
     "metadata": {},
     "output_type": "execute_result"
    }
   ],
   "source": [
    "# import the lib for dataset\n",
    "import numpy as np\n",
    "\n",
    "# create training set\n",
    "X = np.random.rand(100, 1) - 0.5\n",
    "y = 3*X[:, 0]**2 + 0.05 * np.random.randn(100)\n",
    "\n",
    "# import the lib for modeling\n",
    "from sklearn.tree import DecisionTreeRegressor\n",
    "\n",
    "# create the first layer tree\n",
    "tree_reg1 = DecisionTreeRegressor(max_depth=2)\n",
    "\n",
    "# fit tree 1\n",
    "tree_reg1.fit(X, y)\n",
    "\n",
    "# create the second layer tree\n",
    "tree_reg2 = DecisionTreeRegressor(max_depth=2)\n",
    "\n",
    "# process to obtain the residual error of tree 1 \n",
    "y2 = y - tree_reg1.predict(X)\n",
    "\n",
    "# fit tree 2 with X and y2\n",
    "tree_reg2.fit(X, y2)\n",
    "\n",
    "# create the final layer tree\n",
    "tree_reg3 = DecisionTreeRegressor(max_depth=2)\n",
    "\n",
    "# process to obtain the residual error of tree 2\n",
    "y3 = y2 - tree_reg2.predict(X)\n",
    "\n",
    "# fit tree 3 with X and y3\n",
    "\n",
    "tree_reg3.fit(X, y3)\n"
   ]
  },
  {
   "cell_type": "code",
   "execution_count": 2,
   "id": "8a9a32b1",
   "metadata": {},
   "outputs": [],
   "source": [
    "# obtain a new instance\n",
    "X_new = np.array([[0.84]])\n",
    "\n",
    "# predict the new instance by the Gradient Boosting model\n",
    "y_pred = sum(tree.predict(X_new) for tree in (tree_reg1, tree_reg2, tree_reg3))"
   ]
  },
  {
   "cell_type": "markdown",
   "id": "44158ce7",
   "metadata": {},
   "source": [
    "#### GradientBoostingRegressor - Early Stopping GBRT with staged_predict() method"
   ]
  },
  {
   "cell_type": "code",
   "execution_count": 4,
   "id": "f285e7b3",
   "metadata": {},
   "outputs": [
    {
     "data": {
      "text/plain": [
       "GradientBoostingRegressor(max_depth=2, n_estimators=31, random_state=49)"
      ]
     },
     "execution_count": 4,
     "metadata": {},
     "output_type": "execute_result"
    }
   ],
   "source": [
    "# import the libs \n",
    "import numpy as np\n",
    "from sklearn.model_selection import train_test_split\n",
    "from sklearn.metrics import mean_squared_error\n",
    "from sklearn.ensemble import GradientBoostingRegressor\n",
    "\n",
    "# create training set \n",
    "X = np.random.rand(100, 1) - 0.5\n",
    "y = 3 * X[:, 0]**2 + 0.05 * np.random.randn(100)\n",
    "\n",
    "# split the training set to obtain the validation set\n",
    "X_train, X_val, y_train, y_val = train_test_split(X, y, random_state=49)\n",
    "\n",
    "# create the GBRT model\n",
    "gbrt = GradientBoostingRegressor(max_depth=2, n_estimators=120, random_state=42)\n",
    "\n",
    "# fit\n",
    "gbrt.fit(X_train, y_train)\n",
    "\n",
    "# obtain the all the MSEs for all the stages of training (1 estimator, 2 estimators etc.)\n",
    "errors = [mean_squared_error(y_val, y_pred) for y_pred in gbrt.staged_predict(X_val)]\n",
    "\n",
    "# obtain the minimum MSE\n",
    "min_error = np.min(errors)\n",
    "\n",
    "# obtain the optimal numbers of esitimators\n",
    "best_n_estimators = np.argmin(errors) + 1\n",
    "\n",
    "# obtain the optimal GBRT model\n",
    "gbrt_best = GradientBoostingRegressor(max_depth=2, n_estimators=best_n_estimators, random_state=49)\n",
    "\n",
    "# fit\n",
    "gbrt_best.fit(X_train, y_train)"
   ]
  },
  {
   "cell_type": "code",
   "execution_count": 6,
   "id": "391bed23",
   "metadata": {},
   "outputs": [],
   "source": [
    "def plot_predictions(regressors, X, y, axes, label=None, style=\"r-\", data_style=\"b.\", data_label=None):\n",
    "    x1 = np.linspace(axes[0], axes[1], 500)\n",
    "    y_pred = sum(regressor.predict(x1.reshape(-1, 1)) for regressor in regressors)\n",
    "    plt.plot(X[:, 0], y, data_style, label=data_label)\n",
    "    plt.plot(x1, y_pred, style, linewidth=2, label=label)\n",
    "    if label or data_label:\n",
    "        plt.legend(loc=\"upper center\", fontsize=16)\n",
    "    plt.axis(axes)"
   ]
  },
  {
   "cell_type": "code",
   "execution_count": 8,
   "id": "04b7c17c",
   "metadata": {},
   "outputs": [
    {
     "data": {
      "image/png": "[encoded data removed]",
      "text/plain": [
       "<Figure size 720x288 with 2 Axes>"
      ]
     },
     "metadata": {
      "needs_background": "light"
     },
     "output_type": "display_data"
    }
   ],
   "source": [
    "from matplotlib import pyplot as plt\n",
    "\n",
    "plt.figure(figsize=(10, 4))\n",
    "\n",
    "plt.subplot(121)\n",
    "plt.plot(errors, \"b.-\")\n",
    "plt.plot([best_n_estimators, best_n_estimators], [0, min_error], \"k--\")\n",
    "plt.plot([0, 120], [min_error, min_error], \"k--\")\n",
    "plt.plot(best_n_estimators, min_error, \"ko\")\n",
    "plt.text(best_n_estimators, min_error*1.2, \"Minimum\", ha=\"center\", fontsize=14)\n",
    "plt.axis([0, 120, 0, 0.01])\n",
    "plt.xlabel(\"Number of trees\")\n",
    "plt.ylabel(\"Error\", fontsize=16)\n",
    "plt.title(\"Validation error\", fontsize=14)\n",
    "\n",
    "plt.subplot(122)\n",
    "plot_predictions([gbrt_best], X, y, axes=[-0.5, 0.5, -0.1, 0.8])\n",
    "plt.title(\"Best model (%d trees)\" % best_n_estimators, fontsize=14)\n",
    "plt.ylabel(\"$y$\", fontsize=16, rotation=0)\n",
    "plt.xlabel(\"$x_1$\", fontsize=16)\n",
    "\n",
    "\n",
    "plt.show()"
   ]
  },
  {
   "cell_type": "markdown",
   "id": "193c26db",
   "metadata": {},
   "source": [
    "#### GradientBoostingRegressor - Early Stopping with warm_start=True"
   ]
  },
  {
   "cell_type": "code",
   "execution_count": 9,
   "id": "b2c51b45",
   "metadata": {},
   "outputs": [],
   "source": [
    "# import the libs \n",
    "import numpy as np\n",
    "from sklearn.model_selection import train_test_split\n",
    "from sklearn.metrics import mean_squared_error\n",
    "from sklearn.ensemble import GradientBoostingRegressor\n",
    "\n",
    "# create training set \n",
    "X = np.random.rand(100, 1) - 0.5\n",
    "y = 3 * X[:, 0]**2 + 0.05 * np.random.randn(100)\n",
    "\n",
    "# split the training set to obtain the validation set\n",
    "X_train, X_val, y_train, y_val = train_test_split(X, y, random_state=49)\n",
    "\n",
    "# create the GBRT model\n",
    "gbrt = GradientBoostingRegressor(max_depth=2, n_estimators=120, random_state=42)\n",
    "\n",
    "# fit\n",
    "gbrt.fit(X_train, y_train)\n",
    "\n",
    "# warm start for Early stopping when the validation error does not increase for 5 iterations\n",
    "min_val_error = float(\"inf\")\n",
    "error_going_up = 0\n",
    "for n_estimators in range(1, 120):\n",
    "    gbrt.n_estimators = n_estimators\n",
    "    gbrt.fit(X_train, y_train)\n",
    "    y_pred = gbrt.predict(X_val)\n",
    "    val_error = mean_squared_error(y_val, y_pred)\n",
    "    if val_error < min_val_error:\n",
    "        min_val_error = val_error\n",
    "        error_going_up = 0\n",
    "    else:\n",
    "        error_going_up += 1\n",
    "        if error_going_up == 5:\n",
    "            break  # early stopping"
   ]
  },
  {
   "cell_type": "code",
   "execution_count": null,
   "id": "8839b3a8",
   "metadata": {},
   "outputs": [],
   "source": []
  }
 ],
 "metadata": {
  "kernelspec": {
   "display_name": "Python 3",
   "language": "python",
   "name": "python3"
  },
  "language_info": {
   "codemirror_mode": {
    "name": "ipython",
    "version": 3
   },
   "file_extension": ".py",
   "mimetype": "text/x-python",
   "name": "python",
   "nbconvert_exporter": "python",
   "pygments_lexer": "ipython3",
   "version": "3.9.5"
  }
 },
 "nbformat": 4,
 "nbformat_minor": 5
}
